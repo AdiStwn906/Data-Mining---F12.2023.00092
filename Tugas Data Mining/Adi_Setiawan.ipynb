{
  "nbformat": 4,
  "nbformat_minor": 0,
  "metadata": {
    "colab": {
      "provenance": []
    },
    "kernelspec": {
      "name": "python3",
      "display_name": "Python 3"
    },
    "language_info": {
      "name": "python"
    }
  },
  "cells": [
    {
      "cell_type": "code",
      "execution_count": 1,
      "metadata": {
        "id": "iMqSkv33SdVB"
      },
      "outputs": [],
      "source": [
        "import numpy as np\n",
        "import matplotlib.pyplot as plt\n",
        "import pandas as pd"
      ]
    },
    {
      "cell_type": "code",
      "source": [
        "dataset = pd.read_csv('Data.csv', delimiter=';')\n",
        "x = dataset.iloc[:, :-1].values\n",
        "y = dataset.iloc[:, -1].values"
      ],
      "metadata": {
        "id": "HsHXU0tSUScR"
      },
      "execution_count": 2,
      "outputs": []
    },
    {
      "cell_type": "code",
      "source": [
        "print(dataset)"
      ],
      "metadata": {
        "colab": {
          "base_uri": "https://localhost:8080/"
        },
        "id": "-ArF6xyoU52q",
        "outputId": "264a1862-22c5-42bb-bbc6-a8e25dd91753"
      },
      "execution_count": 3,
      "outputs": [
        {
          "output_type": "stream",
          "name": "stdout",
          "text": [
            "   Country Eligible   Age   Salary Purchased\n",
            "0   France      Yes  44.0  72000.0        No\n",
            "1    Spain       No  27.0  48000.0       Yes\n",
            "2  Germany      Yes  30.0  54000.0        No\n",
            "3    Spain      Yes  38.0  61000.0        No\n",
            "4  Germany       No  40.0      NaN       Yes\n",
            "5   France      Yes  35.0  58000.0       Yes\n",
            "6    Spain       No   NaN  52000.0        No\n",
            "7   France      Yes  48.0  79000.0       Yes\n",
            "8  Germany       No  50.0  83000.0        No\n",
            "9   France       No  37.0  67000.0       Yes\n"
          ]
        }
      ]
    },
    {
      "cell_type": "code",
      "source": [
        "print (x)"
      ],
      "metadata": {
        "colab": {
          "base_uri": "https://localhost:8080/"
        },
        "id": "H-628MHmVZ-X",
        "outputId": "be5440eb-1dc6-40b6-bea1-91b092901d72"
      },
      "execution_count": 4,
      "outputs": [
        {
          "output_type": "stream",
          "name": "stdout",
          "text": [
            "[['France' 'Yes' 44.0 72000.0]\n",
            " ['Spain' 'No' 27.0 48000.0]\n",
            " ['Germany' 'Yes' 30.0 54000.0]\n",
            " ['Spain' 'Yes' 38.0 61000.0]\n",
            " ['Germany' 'No' 40.0 nan]\n",
            " ['France' 'Yes' 35.0 58000.0]\n",
            " ['Spain' 'No' nan 52000.0]\n",
            " ['France' 'Yes' 48.0 79000.0]\n",
            " ['Germany' 'No' 50.0 83000.0]\n",
            " ['France' 'No' 37.0 67000.0]]\n"
          ]
        }
      ]
    },
    {
      "cell_type": "code",
      "source": [
        "print (y)"
      ],
      "metadata": {
        "colab": {
          "base_uri": "https://localhost:8080/"
        },
        "id": "O-hYPsxIVlQv",
        "outputId": "99c74cb1-47dc-4094-f5f0-8695c181d7a8"
      },
      "execution_count": 5,
      "outputs": [
        {
          "output_type": "stream",
          "name": "stdout",
          "text": [
            "['No' 'Yes' 'No' 'No' 'Yes' 'Yes' 'No' 'Yes' 'No' 'Yes']\n"
          ]
        }
      ]
    },
    {
      "cell_type": "code",
      "source": [
        "from sklearn.impute import SimpleImputer\n",
        "imputer = SimpleImputer(missing_values=np.nan, strategy='mean')\n",
        "imputer.fit(x[:, 2:4])\n",
        "x[:, 2:4] = imputer.transform(x[:, 2:4])"
      ],
      "metadata": {
        "id": "D9zwlrRkoX6U"
      },
      "execution_count": 6,
      "outputs": []
    },
    {
      "cell_type": "code",
      "source": [
        "print(x)"
      ],
      "metadata": {
        "colab": {
          "base_uri": "https://localhost:8080/"
        },
        "id": "KayOvBx-re-p",
        "outputId": "cb5e3886-7a94-4cc8-d5b8-ba760c721285",
        "collapsed": true
      },
      "execution_count": 7,
      "outputs": [
        {
          "output_type": "stream",
          "name": "stdout",
          "text": [
            "[['France' 'Yes' 44.0 72000.0]\n",
            " ['Spain' 'No' 27.0 48000.0]\n",
            " ['Germany' 'Yes' 30.0 54000.0]\n",
            " ['Spain' 'Yes' 38.0 61000.0]\n",
            " ['Germany' 'No' 40.0 63777.77777777778]\n",
            " ['France' 'Yes' 35.0 58000.0]\n",
            " ['Spain' 'No' 38.77777777777778 52000.0]\n",
            " ['France' 'Yes' 48.0 79000.0]\n",
            " ['Germany' 'No' 50.0 83000.0]\n",
            " ['France' 'No' 37.0 67000.0]]\n"
          ]
        }
      ]
    },
    {
      "cell_type": "code",
      "source": [
        "from sklearn.compose import ColumnTransformer\n",
        "from sklearn.preprocessing import OneHotEncoder\n",
        "cantik = ColumnTransformer(transformers=[('encoder', OneHotEncoder(), [0])], remainder='passthrough')\n",
        "x = np.array(cantik.fit_transform(x))"
      ],
      "metadata": {
        "id": "MMiGdCrbtjbP"
      },
      "execution_count": 8,
      "outputs": []
    },
    {
      "cell_type": "code",
      "source": [
        "from sklearn.preprocessing import LabelEncoder\n",
        "le = LabelEncoder()\n",
        "y = le.fit_transform(y)"
      ],
      "metadata": {
        "id": "U83-NM4dwaRu"
      },
      "execution_count": 9,
      "outputs": []
    },
    {
      "cell_type": "code",
      "source": [
        "print(y)"
      ],
      "metadata": {
        "colab": {
          "base_uri": "https://localhost:8080/"
        },
        "id": "e9oRr-JWx0sb",
        "outputId": "7df58908-98a3-4ff8-8dd0-5c39523aed18"
      },
      "execution_count": 10,
      "outputs": [
        {
          "output_type": "stream",
          "name": "stdout",
          "text": [
            "[0 1 0 0 1 1 0 1 0 1]\n"
          ]
        }
      ]
    },
    {
      "cell_type": "code",
      "source": [
        "from sklearn.model_selection import train_test_split\n",
        "x_train, x_test, y_train, y_test = train_test_split(x, y, test_size = 0.2, random_state = 1)"
      ],
      "metadata": {
        "id": "XkypFigEjKHL"
      },
      "execution_count": 11,
      "outputs": []
    },
    {
      "cell_type": "code",
      "source": [
        "print(x_train)"
      ],
      "metadata": {
        "colab": {
          "base_uri": "https://localhost:8080/"
        },
        "collapsed": true,
        "id": "nZEAkhQmo0TF",
        "outputId": "9931bc7d-5661-45ed-afc3-9bab917e35b6"
      },
      "execution_count": 12,
      "outputs": [
        {
          "output_type": "stream",
          "name": "stdout",
          "text": [
            "[[0.0 0.0 1.0 'No' 38.77777777777778 52000.0]\n",
            " [0.0 1.0 0.0 'No' 40.0 63777.77777777778]\n",
            " [1.0 0.0 0.0 'Yes' 44.0 72000.0]\n",
            " [0.0 0.0 1.0 'Yes' 38.0 61000.0]\n",
            " [0.0 0.0 1.0 'No' 27.0 48000.0]\n",
            " [1.0 0.0 0.0 'Yes' 48.0 79000.0]\n",
            " [0.0 1.0 0.0 'No' 50.0 83000.0]\n",
            " [1.0 0.0 0.0 'Yes' 35.0 58000.0]]\n"
          ]
        }
      ]
    },
    {
      "cell_type": "code",
      "source": [
        "print(x_test)"
      ],
      "metadata": {
        "colab": {
          "base_uri": "https://localhost:8080/"
        },
        "collapsed": true,
        "id": "NC9fRjPgpFcg",
        "outputId": "5cafc3d3-4e81-4c81-f0bd-3e49533ad98b"
      },
      "execution_count": 13,
      "outputs": [
        {
          "output_type": "stream",
          "name": "stdout",
          "text": [
            "[[0.0 1.0 0.0 'Yes' 30.0 54000.0]\n",
            " [1.0 0.0 0.0 'No' 37.0 67000.0]]\n"
          ]
        }
      ]
    },
    {
      "cell_type": "code",
      "source": [
        "print(y_train)"
      ],
      "metadata": {
        "colab": {
          "base_uri": "https://localhost:8080/"
        },
        "collapsed": true,
        "id": "5KjDeUjTpacj",
        "outputId": "9b621f91-3fd9-4667-bdac-25102344dc7e"
      },
      "execution_count": 14,
      "outputs": [
        {
          "output_type": "stream",
          "name": "stdout",
          "text": [
            "[0 1 0 0 1 1 0 1]\n"
          ]
        }
      ]
    },
    {
      "cell_type": "code",
      "source": [
        "from sklearn.preprocessing import StandardScaler\n",
        "sc = StandardScaler()\n",
        "x_train[:, 4:] = sc.fit_transform(x_train[:, 4:])\n",
        "x_test[:, 4:] = sc.transform(x_test[:, 4:])"
      ],
      "metadata": {
        "id": "d3sk4az3rPA0"
      },
      "execution_count": 18,
      "outputs": []
    },
    {
      "cell_type": "code",
      "source": [
        "print(x_train)"
      ],
      "metadata": {
        "colab": {
          "base_uri": "https://localhost:8080/"
        },
        "id": "WtMHzuBEs7Yw",
        "outputId": "14278313-ea0f-491a-db9a-bc4b81809524"
      },
      "execution_count": 19,
      "outputs": [
        {
          "output_type": "stream",
          "name": "stdout",
          "text": [
            "[[0.0 0.0 1.0 'No' -0.19159184384578545 -1.0781259408412425]\n",
            " [0.0 1.0 0.0 'No' -0.014117293757057777 -0.07013167641635372]\n",
            " [1.0 0.0 0.0 'Yes' 0.566708506533324 0.633562432710455]\n",
            " [0.0 0.0 1.0 'Yes' -0.30453019390224867 -0.30786617274297867]\n",
            " [0.0 0.0 1.0 'No' -1.9018011447007988 -1.420463615551582]\n",
            " [1.0 0.0 0.0 'Yes' 1.1475343068237058 1.232653363453549]\n",
            " [0.0 1.0 0.0 'No' 1.4379472069688968 1.5749910381638885]\n",
            " [1.0 0.0 0.0 'Yes' -0.7401495441200351 -0.5646194287757332]]\n"
          ]
        }
      ]
    }
  ]
}